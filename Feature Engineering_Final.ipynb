{
 "cells": [
  {
   "cell_type": "code",
   "execution_count": 93,
   "metadata": {},
   "outputs": [],
   "source": [
    "# Libraries to load\n",
    "import pandas as pd\n",
    "import numpy as np \n",
    "from scipy import stats\n",
    "from sklearn.svm import SVC\n",
    "from sklearn.metrics import confusion_matrix\n",
    "from sklearn.model_selection import train_test_split\n",
    "from sklearn.linear_model import LogisticRegression\n",
    "from sklearn.preprocessing import StandardScaler\n",
    "\n",
    "# data visualization packages \n",
    "import matplotlib.pyplot as plt\n",
    "%matplotlib inline\n",
    "plt.style.use('seaborn')\n",
    "import seaborn as sns\n",
    "pd.set_option('max_columns', None)\n",
    "import pandas_profiling\n",
    "\n",
    "# machine learning packages (sklearn + xgboost)\n",
    "from sklearn.model_selection import train_test_split, GridSearchCV, RandomizedSearchCV, cross_val_score\n",
    "from sklearn.preprocessing import StandardScaler\n",
    "from sklearn.metrics import confusion_matrix, classification_report, roc_curve, auc\n",
    "from sklearn.ensemble import RandomForestClassifier, BaggingClassifier, VotingClassifier\n",
    "from sklearn.linear_model import LogisticRegression\n",
    "from sklearn.tree import DecisionTreeClassifier\n",
    "from sklearn.feature_selection import RFECV, RFE\n",
    "import xgboost as xgb\n",
    "\n",
    "from warnings import filterwarnings\n",
    "filterwarnings('ignore')\n",
    "np.random.seed(123)"
   ]
  },
  {
   "cell_type": "code",
   "execution_count": 298,
   "metadata": {},
   "outputs": [],
   "source": [
    "# Load DF\n",
    "df = pd.read_csv('./data/cleaned_df.csv')"
   ]
  },
  {
   "cell_type": "code",
   "execution_count": 95,
   "metadata": {},
   "outputs": [],
   "source": [
    "# Format Readmitted\n",
    "df['readmitted'] = df.readmitted.map({'No':0,'Yes':1})"
   ]
  },
  {
   "cell_type": "markdown",
   "metadata": {},
   "source": [
    "# Dropping Features"
   ]
  },
  {
   "cell_type": "code",
   "execution_count": 96,
   "metadata": {},
   "outputs": [],
   "source": [
    "#shortest drop list - no patients take these medications\n",
    "df = df.drop(columns = [\"examide\", \"citoglipton\"])"
   ]
  },
  {
   "cell_type": "markdown",
   "metadata": {},
   "source": [
    "# Feature Engineering"
   ]
  },
  {
   "cell_type": "code",
   "execution_count": 97,
   "metadata": {},
   "outputs": [],
   "source": [
    "# Group admission type by Emergency (Emergency, Trauma Center, and Urgent), Elective, and Other\n",
    "\n",
    "def modadtype(series):\n",
    "    \n",
    "    def newcat(x):\n",
    "        if x == 1 or x == 2 or x == 7: return \"Emergency\"\n",
    "        elif x == 3: return \"Elective\"\n",
    "        else: return \"Other\"\n",
    "        \n",
    "    return series.apply(newcat)\n",
    "\n",
    "df.admission_type_id = modadtype(df.admission_type_id)"
   ]
  },
  {
   "cell_type": "code",
   "execution_count": 98,
   "metadata": {},
   "outputs": [],
   "source": [
    "# Group admission source by Referral, Emergency, and Other\n",
    "\n",
    "def modadsourc(series):\n",
    "    \n",
    "    def newcat(x):\n",
    "        if x == 1 or x == 2 or x == 3: return \"Referral\"\n",
    "        elif x == 7: return \"Emergency\"\n",
    "        else: return \"Other\"\n",
    "        \n",
    "    return series.apply(newcat)\n",
    "\n",
    "df.admission_source_id = modadsourc(df.admission_source_id)"
   ]
  },
  {
   "cell_type": "code",
   "execution_count": 99,
   "metadata": {},
   "outputs": [],
   "source": [
    "## Group discharge dispo by Home or Not_Home discharge\n",
    "\n",
    "def moddisch(series):\n",
    "    \n",
    "    def home(x):\n",
    "        if x == 1: return \"Home\"\n",
    "        else: return \"Not_Home\"\n",
    "    \n",
    "    return series.apply(home)\n",
    "\n",
    "df.discharge_disposition_id = moddisch(df.discharge_disposition_id)\n",
    "\n",
    "## Other method - Remove Expired or Hospice-bound Patients\n",
    "\n",
    "#remove only hospice bound and expired\n",
    "# df = df.loc[~df.discharge_disposition_id.isin([11,13,14,19,20,21])]"
   ]
  },
  {
   "cell_type": "code",
   "execution_count": 100,
   "metadata": {},
   "outputs": [],
   "source": [
    "# Change medication to binary take vs not take - play with post model creation\n",
    "#for med in medication:\n",
    "    #df[med] = df[med].map({'Up':1, 'Down':1, 'Steady':1, 'No':0})\n",
    "\n",
    "\n",
    "# medication = ['metformin', 'repaglinide', 'nateglinide', 'chlorpropamide',\n",
    "#        'glimepiride', 'acetohexamide', 'glipizide', 'glyburide', 'tolbutamide',\n",
    "#        'pioglitazone', 'rosiglitazone', 'acarbose', 'miglitol', 'troglitazone',\n",
    "#        'tolazamide', 'insulin',\n",
    "#        'glyburide-metformin', 'glipizide-metformin',\n",
    "#        'glimepiride-pioglitazone', 'metformin-rosiglitazone',\n",
    "#        'metformin-pioglitazone']"
   ]
  },
  {
   "cell_type": "code",
   "execution_count": 101,
   "metadata": {},
   "outputs": [],
   "source": [
    "# Group age by most common categories\n",
    "age_id = {'[0-10)':'30 or Under', \n",
    "          '[10-20)':'30 or Under', \n",
    "          '[20-30)':'30 or Under', \n",
    "          '[30-40)':'30 to 60', \n",
    "          '[40-50)':'30 to 60', \n",
    "          '[50-60)':'30 to 60',\n",
    "          '[60-70)':'30 to 60', \n",
    "          '[70-80)':'Over 60', \n",
    "          '[80-90)':'Over 60', \n",
    "          '[90-100)':'Over 60'}\n",
    "df['age'] = df.age.replace(age_id)"
   ]
  },
  {
   "cell_type": "code",
   "execution_count": 102,
   "metadata": {},
   "outputs": [],
   "source": [
    "# Group race by most common categories\n",
    "race_id = {'Caucasian':'Caucasian', \n",
    "          'AfricanAmerican':'AfricanAmerican', \n",
    "          'Other':'Other', \n",
    "          'Asian':'Other', \n",
    "          'Hispanic':'Other', \n",
    "          'unknown':'Missing',}\n",
    "df['race'] = df.race.replace(race_id)"
   ]
  },
  {
   "cell_type": "code",
   "execution_count": 103,
   "metadata": {},
   "outputs": [
    {
     "data": {
      "text/html": [
       "<div>\n",
       "<style scoped>\n",
       "    .dataframe tbody tr th:only-of-type {\n",
       "        vertical-align: middle;\n",
       "    }\n",
       "\n",
       "    .dataframe tbody tr th {\n",
       "        vertical-align: top;\n",
       "    }\n",
       "\n",
       "    .dataframe thead th {\n",
       "        text-align: right;\n",
       "    }\n",
       "</style>\n",
       "<table border=\"1\" class=\"dataframe\">\n",
       "  <thead>\n",
       "    <tr style=\"text-align: right;\">\n",
       "      <th></th>\n",
       "      <th>race</th>\n",
       "      <th>gender</th>\n",
       "      <th>age</th>\n",
       "      <th>admission_type_id</th>\n",
       "      <th>discharge_disposition_id</th>\n",
       "      <th>admission_source_id</th>\n",
       "      <th>time_in_hospital</th>\n",
       "      <th>num_lab_procedures</th>\n",
       "      <th>num_procedures</th>\n",
       "      <th>num_medications</th>\n",
       "      <th>number_outpatient</th>\n",
       "      <th>number_emergency</th>\n",
       "      <th>number_inpatient</th>\n",
       "      <th>diag_1</th>\n",
       "      <th>diag_2</th>\n",
       "      <th>diag_3</th>\n",
       "      <th>number_diagnoses</th>\n",
       "      <th>max_glu_serum</th>\n",
       "      <th>A1Cresult</th>\n",
       "      <th>metformin</th>\n",
       "      <th>repaglinide</th>\n",
       "      <th>nateglinide</th>\n",
       "      <th>chlorpropamide</th>\n",
       "      <th>glimepiride</th>\n",
       "      <th>acetohexamide</th>\n",
       "      <th>glipizide</th>\n",
       "      <th>glyburide</th>\n",
       "      <th>tolbutamide</th>\n",
       "      <th>pioglitazone</th>\n",
       "      <th>rosiglitazone</th>\n",
       "      <th>acarbose</th>\n",
       "      <th>miglitol</th>\n",
       "      <th>troglitazone</th>\n",
       "      <th>tolazamide</th>\n",
       "      <th>insulin</th>\n",
       "      <th>glyburide-metformin</th>\n",
       "      <th>glipizide-metformin</th>\n",
       "      <th>glimepiride-pioglitazone</th>\n",
       "      <th>metformin-rosiglitazone</th>\n",
       "      <th>metformin-pioglitazone</th>\n",
       "      <th>change</th>\n",
       "      <th>diabetesMed</th>\n",
       "      <th>readmitted</th>\n",
       "    </tr>\n",
       "  </thead>\n",
       "  <tbody>\n",
       "    <tr>\n",
       "      <th>22926</th>\n",
       "      <td>Other</td>\n",
       "      <td>Unknown/Invalid</td>\n",
       "      <td>Over 60</td>\n",
       "      <td>Elective</td>\n",
       "      <td>Home</td>\n",
       "      <td>Referral</td>\n",
       "      <td>1</td>\n",
       "      <td>5</td>\n",
       "      <td>5</td>\n",
       "      <td>22</td>\n",
       "      <td>0</td>\n",
       "      <td>0</td>\n",
       "      <td>0</td>\n",
       "      <td>414</td>\n",
       "      <td>411</td>\n",
       "      <td>401</td>\n",
       "      <td>4</td>\n",
       "      <td>None</td>\n",
       "      <td>None</td>\n",
       "      <td>No</td>\n",
       "      <td>No</td>\n",
       "      <td>No</td>\n",
       "      <td>No</td>\n",
       "      <td>No</td>\n",
       "      <td>No</td>\n",
       "      <td>Steady</td>\n",
       "      <td>No</td>\n",
       "      <td>No</td>\n",
       "      <td>Steady</td>\n",
       "      <td>No</td>\n",
       "      <td>No</td>\n",
       "      <td>No</td>\n",
       "      <td>No</td>\n",
       "      <td>No</td>\n",
       "      <td>No</td>\n",
       "      <td>No</td>\n",
       "      <td>No</td>\n",
       "      <td>No</td>\n",
       "      <td>No</td>\n",
       "      <td>No</td>\n",
       "      <td>Ch</td>\n",
       "      <td>Yes</td>\n",
       "      <td>0</td>\n",
       "    </tr>\n",
       "    <tr>\n",
       "      <th>55129</th>\n",
       "      <td>Missing</td>\n",
       "      <td>Unknown/Invalid</td>\n",
       "      <td>30 to 60</td>\n",
       "      <td>Emergency</td>\n",
       "      <td>Home</td>\n",
       "      <td>Emergency</td>\n",
       "      <td>1</td>\n",
       "      <td>38</td>\n",
       "      <td>1</td>\n",
       "      <td>6</td>\n",
       "      <td>0</td>\n",
       "      <td>0</td>\n",
       "      <td>0</td>\n",
       "      <td>808</td>\n",
       "      <td>873</td>\n",
       "      <td>E813</td>\n",
       "      <td>5</td>\n",
       "      <td>None</td>\n",
       "      <td>None</td>\n",
       "      <td>No</td>\n",
       "      <td>No</td>\n",
       "      <td>No</td>\n",
       "      <td>No</td>\n",
       "      <td>No</td>\n",
       "      <td>No</td>\n",
       "      <td>No</td>\n",
       "      <td>No</td>\n",
       "      <td>No</td>\n",
       "      <td>No</td>\n",
       "      <td>No</td>\n",
       "      <td>No</td>\n",
       "      <td>No</td>\n",
       "      <td>No</td>\n",
       "      <td>No</td>\n",
       "      <td>No</td>\n",
       "      <td>No</td>\n",
       "      <td>No</td>\n",
       "      <td>No</td>\n",
       "      <td>No</td>\n",
       "      <td>No</td>\n",
       "      <td>No</td>\n",
       "      <td>No</td>\n",
       "      <td>0</td>\n",
       "    </tr>\n",
       "    <tr>\n",
       "      <th>59490</th>\n",
       "      <td>Missing</td>\n",
       "      <td>Unknown/Invalid</td>\n",
       "      <td>Over 60</td>\n",
       "      <td>Emergency</td>\n",
       "      <td>Not_Home</td>\n",
       "      <td>Emergency</td>\n",
       "      <td>8</td>\n",
       "      <td>59</td>\n",
       "      <td>2</td>\n",
       "      <td>21</td>\n",
       "      <td>0</td>\n",
       "      <td>0</td>\n",
       "      <td>0</td>\n",
       "      <td>850</td>\n",
       "      <td>805</td>\n",
       "      <td>808</td>\n",
       "      <td>9</td>\n",
       "      <td>None</td>\n",
       "      <td>None</td>\n",
       "      <td>Steady</td>\n",
       "      <td>No</td>\n",
       "      <td>No</td>\n",
       "      <td>No</td>\n",
       "      <td>No</td>\n",
       "      <td>No</td>\n",
       "      <td>No</td>\n",
       "      <td>No</td>\n",
       "      <td>No</td>\n",
       "      <td>No</td>\n",
       "      <td>Steady</td>\n",
       "      <td>No</td>\n",
       "      <td>No</td>\n",
       "      <td>No</td>\n",
       "      <td>No</td>\n",
       "      <td>No</td>\n",
       "      <td>No</td>\n",
       "      <td>No</td>\n",
       "      <td>No</td>\n",
       "      <td>No</td>\n",
       "      <td>No</td>\n",
       "      <td>Ch</td>\n",
       "      <td>Yes</td>\n",
       "      <td>0</td>\n",
       "    </tr>\n",
       "  </tbody>\n",
       "</table>\n",
       "</div>"
      ],
      "text/plain": [
       "          race           gender       age admission_type_id  \\\n",
       "22926    Other  Unknown/Invalid   Over 60          Elective   \n",
       "55129  Missing  Unknown/Invalid  30 to 60         Emergency   \n",
       "59490  Missing  Unknown/Invalid   Over 60         Emergency   \n",
       "\n",
       "      discharge_disposition_id admission_source_id  time_in_hospital  \\\n",
       "22926                     Home            Referral                 1   \n",
       "55129                     Home           Emergency                 1   \n",
       "59490                 Not_Home           Emergency                 8   \n",
       "\n",
       "       num_lab_procedures  num_procedures  num_medications  number_outpatient  \\\n",
       "22926                   5               5               22                  0   \n",
       "55129                  38               1                6                  0   \n",
       "59490                  59               2               21                  0   \n",
       "\n",
       "       number_emergency  number_inpatient diag_1 diag_2 diag_3  \\\n",
       "22926                 0                 0    414    411    401   \n",
       "55129                 0                 0    808    873   E813   \n",
       "59490                 0                 0    850    805    808   \n",
       "\n",
       "       number_diagnoses max_glu_serum A1Cresult metformin repaglinide  \\\n",
       "22926                 4          None      None        No          No   \n",
       "55129                 5          None      None        No          No   \n",
       "59490                 9          None      None    Steady          No   \n",
       "\n",
       "      nateglinide chlorpropamide glimepiride acetohexamide glipizide  \\\n",
       "22926          No             No          No            No    Steady   \n",
       "55129          No             No          No            No        No   \n",
       "59490          No             No          No            No        No   \n",
       "\n",
       "      glyburide tolbutamide pioglitazone rosiglitazone acarbose miglitol  \\\n",
       "22926        No          No       Steady            No       No       No   \n",
       "55129        No          No           No            No       No       No   \n",
       "59490        No          No           No        Steady       No       No   \n",
       "\n",
       "      troglitazone tolazamide insulin glyburide-metformin glipizide-metformin  \\\n",
       "22926           No         No      No                  No                  No   \n",
       "55129           No         No      No                  No                  No   \n",
       "59490           No         No      No                  No                  No   \n",
       "\n",
       "      glimepiride-pioglitazone metformin-rosiglitazone metformin-pioglitazone  \\\n",
       "22926                       No                      No                     No   \n",
       "55129                       No                      No                     No   \n",
       "59490                       No                      No                     No   \n",
       "\n",
       "      change diabetesMed  readmitted  \n",
       "22926     Ch         Yes           0  \n",
       "55129     No          No           0  \n",
       "59490     Ch         Yes           0  "
      ]
     },
     "execution_count": 103,
     "metadata": {},
     "output_type": "execute_result"
    }
   ],
   "source": [
    "# Inspect Unknown/Invalid results for Gender\n",
    "df[df['gender'].str.contains('Unknown/Invalid')]"
   ]
  },
  {
   "cell_type": "code",
   "execution_count": 104,
   "metadata": {},
   "outputs": [],
   "source": [
    "# Only 3 values of unknown gender; drop those observations\n",
    "df = df[df.gender != \"Unknown/Invalid\"]"
   ]
  },
  {
   "cell_type": "code",
   "execution_count": 105,
   "metadata": {},
   "outputs": [],
   "source": [
    "# Create a function to group diagnostic codes by range as well as separating diabetes specifically; group symptoms with major disease category\n",
    "\n",
    "def diag_grouper(series):\n",
    "    \n",
    "    '''takes input as df.col and outputs diagnostic code groupings'''\n",
    "    \n",
    "    def no_str(x):\n",
    "        \n",
    "        '''takes input as an element of a series and pulls code for diabetes specific disease and E/V categories'''\n",
    "        \n",
    "        if '250' in x: return '9999'\n",
    "        elif 'E' in x: return '123456'\n",
    "        elif 'V' in x: return '123456'\n",
    "        elif x == 'missing': return '-654321'\n",
    "        else: return x\n",
    "    \n",
    "    series = series.apply(no_str)\n",
    "    \n",
    "    series = series.astype(float)\n",
    "    \n",
    "    def num_categ(x):\n",
    "        \n",
    "        '''takes input as an element of a series and saves each range as a numerical placeholder'''\n",
    "        \n",
    "        if 1 <= x <= 139: return 10000\n",
    "        elif 140 <= x <= 239: return 10001\n",
    "        elif 240 <= x <= 279: return 10002\n",
    "        elif 280 <= x <= 289: return 10003\n",
    "        elif 290 <= x <= 319: return 10004\n",
    "        elif 320 <= x <= 359: return 10005\n",
    "        elif 360 <= x <= 389: return 10006\n",
    "        elif 390 <= x <= 459 and x == 786: return 10007\n",
    "        elif 460 <= x <= 519 and x == 787: return 10008\n",
    "        elif 520 <= x <= 579 and x == 787: return 10009\n",
    "        elif 580 <= x <= 629 and x == 788: return 10010\n",
    "        elif 630 <= x <= 679: return 10011\n",
    "        elif 680 <= x <= 709 and x == 782: return 10012\n",
    "        elif 710 <= x <= 739: return 10013\n",
    "        elif 740 <= x <= 759: return 10014\n",
    "        elif 780 <= x <= 781 and x == 784 and 790 <= x <= 799: return 10015\n",
    "        elif 800 <= x <= 999: return 10016\n",
    "        else: return x\n",
    "        \n",
    "    series = series.apply(num_categ)\n",
    "    \n",
    "    def text_convert(x):\n",
    "        \n",
    "        '''takes input as an element of a series and converts each placeholder to string format'''\n",
    "        \n",
    "        if x == 10000: return \"Other\"\n",
    "        elif x == 10001: return \"Neoplasms\"\n",
    "        elif x == 10002: return \"Other\"\n",
    "        elif x == 10003: return \"Other\"\n",
    "        elif x == 10004: return \"Other\"\n",
    "        elif x == 10005: return \"Other\"\n",
    "        elif x == 10006: return \"Other\"\n",
    "        elif x == 10007: return \"Circulatory Disease\"\n",
    "        elif x == 10008: return \"Respiratory Disease\"\n",
    "        elif x == 10009: return \"Digestive Disease\"\n",
    "        elif x == 10010: return \"Genitourinary\"\n",
    "        elif x == 10011: return \"Other\"\n",
    "        elif x == 10012: return \"Other\"\n",
    "        elif x == 10013: return \"Musculoskeletal Disease\"\n",
    "        elif x == 10014: return \"Other\"\n",
    "        elif x == 10015: return \"Other\"\n",
    "        elif x == 10016: return \"Injury and Poisoning\"\n",
    "        elif x == 9999: return \"Diabetes\"\n",
    "        elif x == 123456: return \"Other\"\n",
    "        elif x == -654321: return \"Other\"\n",
    "    \n",
    "    return series.apply(text_convert)"
   ]
  },
  {
   "cell_type": "code",
   "execution_count": 106,
   "metadata": {},
   "outputs": [],
   "source": [
    "# Apply diag_grouper to the data frame\n",
    "df.diag_1 = diag_grouper(df.diag_1)\n",
    "df.diag_2 = diag_grouper(df.diag_2)\n",
    "df.diag_3 = diag_grouper(df.diag_3)"
   ]
  },
  {
   "cell_type": "code",
   "execution_count": 107,
   "metadata": {},
   "outputs": [],
   "source": [
    "# Create boolean masks for the columns in question and convert to int\n",
    "Circ = df[['diag_1','diag_2','diag_3']].isin(['Circulatory Disease']).astype(int)\n",
    "Resp = df[['diag_1','diag_2','diag_3']].isin(['Respiratory Disease']).astype(int)\n",
    "Digest = df[['diag_1','diag_2','diag_3']].isin(['Digestive Disease']).astype(int)\n",
    "Diab = df[['diag_1','diag_2','diag_3']].isin(['Diabetes']).astype(int)\n",
    "Genit = df[['diag_1','diag_2','diag_3']].isin(['Genitourinary']).astype(int)\n",
    "Muscu = df[['diag_1','diag_2','diag_3']].isin(['Musculoskeletal Disease']).astype(int)\n",
    "Neop = df[['diag_1','diag_2','diag_3']].isin(['Neoplasms']).astype(int)\n",
    "Inj = df[['diag_1','diag_2','diag_3']].isin(['Injury and Poisoning']).astype(int)\n",
    "Othr = df[['diag_1','diag_2','diag_3']].isin(['Other']).astype(int)"
   ]
  },
  {
   "cell_type": "code",
   "execution_count": 108,
   "metadata": {},
   "outputs": [],
   "source": [
    "# Sum the column amounts\n",
    "Circulatory = (Circ['diag_1'] + Circ['diag_2'] + Circ['diag_3'])\n",
    "Respiratory = Resp['diag_1'] + Resp['diag_2'] + Resp['diag_3']\n",
    "Digestive = Digest['diag_1'] + Digest['diag_2'] + Digest['diag_3']\n",
    "Diabetes = Diab['diag_1'] + Diab['diag_2'] + Diab['diag_3']\n",
    "Injury = Inj['diag_1'] + Inj['diag_2'] + Inj['diag_3']\n",
    "Genitourinary = Genit['diag_1'] + Genit['diag_2'] + Genit['diag_3']\n",
    "Musculoskeletal = Muscu['diag_1'] + Muscu['diag_2'] + Muscu['diag_3']\n",
    "Neoplasms = Neop['diag_1'] + Neop['diag_2'] + Neop['diag_3']\n",
    "Other = Othr['diag_1'] + Othr['diag_2'] + Othr['diag_3']"
   ]
  },
  {
   "cell_type": "code",
   "execution_count": 109,
   "metadata": {},
   "outputs": [],
   "source": [
    "# Create new df of new diag columns; convert back to boolean then back to int to binarize\n",
    "newcollist = [Circulatory, Respiratory, Digestive, Diabetes, Injury, Genitourinary, Musculoskeletal, Neoplasms, Other]\n",
    "newcols = pd.concat(newcollist, axis = 1)\n",
    "newcols.columns = ['diag_Circulatory', 'diag_Respiratory', 'diag_Digestive', 'diag_Diabetes', 'diag_Injury',\n",
    "                   'diag_Genitourinary', 'diag_Musculoskeletal', 'diag_Neoplasms','diag_Other']\n",
    "newcols = newcols.astype(bool).astype(int)"
   ]
  },
  {
   "cell_type": "code",
   "execution_count": 110,
   "metadata": {},
   "outputs": [],
   "source": [
    "# Drop OG diags and add new\n",
    "df = df.drop(columns = ['diag_1','diag_2','diag_3'])\n",
    "df = pd.concat([df,newcols],axis=1)"
   ]
  },
  {
   "cell_type": "markdown",
   "metadata": {},
   "source": [
    "# Separation for Scaling and Encoding"
   ]
  },
  {
   "cell_type": "code",
   "execution_count": 111,
   "metadata": {},
   "outputs": [],
   "source": [
    "# identify cat and num types for cat dummification\n",
    "categorical = df.drop(columns = ['time_in_hospital',\n",
    "       'num_lab_procedures', 'num_procedures', 'num_medications',\n",
    "       'number_outpatient', 'number_emergency', 'number_inpatient',\n",
    "        'number_diagnoses', 'diag_Circulatory', 'diag_Respiratory',\n",
    "       'diag_Digestive', 'diag_Diabetes', 'diag_Neoplasms', 'diag_Injury', \n",
    "       'diag_Genitourinary', 'diag_Musculoskeletal', \n",
    "        'diag_Other','readmitted'])\n",
    "numerical = df.drop(columns = ['race', 'gender', 'age', 'admission_type_id',\n",
    "       'discharge_disposition_id', 'admission_source_id', \n",
    "       'max_glu_serum', 'A1Cresult', 'diag_Circulatory', 'diag_Respiratory',\n",
    "       'diag_Digestive', 'diag_Diabetes', 'diag_Injury', 'diag_Other',                        \n",
    "       'metformin', 'repaglinide', 'nateglinide', 'chlorpropamide',\n",
    "       'diag_Genitourinary', 'diag_Musculoskeletal', 'diag_Neoplasms',\n",
    "       'glimepiride', 'acetohexamide', 'glipizide', 'glyburide', 'tolbutamide',\n",
    "       'pioglitazone', 'rosiglitazone', 'acarbose', 'miglitol', 'troglitazone',\n",
    "       'tolazamide', 'insulin',\n",
    "       'glyburide-metformin', 'glipizide-metformin',\n",
    "       'glimepiride-pioglitazone', 'metformin-rosiglitazone',\n",
    "       'metformin-pioglitazone', 'change', 'diabetesMed','readmitted'])\n"
   ]
  },
  {
   "cell_type": "code",
   "execution_count": 112,
   "metadata": {},
   "outputs": [],
   "source": [
    "# Export for graphing post variable grouping\n",
    "#df.to_csv(r'./data/cleaned_df.csv', index = False)"
   ]
  },
  {
   "cell_type": "code",
   "execution_count": 113,
   "metadata": {},
   "outputs": [],
   "source": [
    "# Separation of features from target for dummification\n",
    "\n",
    "X = df.drop('readmitted', axis = 1)\n",
    "y = df['readmitted']"
   ]
  },
  {
   "cell_type": "code",
   "execution_count": 114,
   "metadata": {},
   "outputs": [],
   "source": [
    "X = pd.get_dummies(X, columns = categorical.columns)"
   ]
  },
  {
   "cell_type": "markdown",
   "metadata": {},
   "source": [
    "#### Recombine data frame for 80/20 split"
   ]
  },
  {
   "cell_type": "code",
   "execution_count": 115,
   "metadata": {},
   "outputs": [],
   "source": [
    "df = X.assign(readmitted = y)"
   ]
  },
  {
   "cell_type": "code",
   "execution_count": 116,
   "metadata": {},
   "outputs": [],
   "source": [
    "# Perform and 80/20 split of the data\n",
    "X = df.drop('readmitted', axis = 1)\n",
    "y = df['readmitted']\n"
   ]
  },
  {
   "cell_type": "code",
   "execution_count": 286,
   "metadata": {},
   "outputs": [
    {
     "data": {
      "text/plain": [
       "(57212, 85)"
      ]
     },
     "execution_count": 286,
     "metadata": {},
     "output_type": "execute_result"
    }
   ],
   "source": [
    "X_train.shape"
   ]
  },
  {
   "cell_type": "code",
   "execution_count": 118,
   "metadata": {
    "collapsed": true,
    "jupyter": {
     "outputs_hidden": true
    }
   },
   "outputs": [
    {
     "name": "stdout",
     "output_type": "stream",
     "text": [
      "Column: 0, Selected False, Rank: 3.000\n",
      "Column: 1, Selected False, Rank: 2.000\n",
      "Column: 2, Selected False, Rank: 4.000\n",
      "Column: 3, Selected True, Rank: 1.000\n",
      "Column: 4, Selected False, Rank: 11.000\n",
      "Column: 5, Selected False, Rank: 29.000\n",
      "Column: 6, Selected False, Rank: 30.000\n",
      "Column: 7, Selected False, Rank: 5.000\n",
      "Column: 8, Selected False, Rank: 84.000\n",
      "Column: 9, Selected False, Rank: 94.000\n",
      "Column: 10, Selected False, Rank: 95.000\n",
      "Column: 11, Selected False, Rank: 16.000\n",
      "Column: 12, Selected False, Rank: 23.000\n",
      "Column: 13, Selected False, Rank: 102.000\n",
      "Column: 14, Selected False, Rank: 31.000\n",
      "Column: 15, Selected False, Rank: 27.000\n",
      "Column: 16, Selected False, Rank: 7.000\n",
      "Column: 17, Selected False, Rank: 12.000\n",
      "Column: 18, Selected False, Rank: 19.000\n",
      "Column: 19, Selected False, Rank: 49.000\n",
      "Column: 20, Selected False, Rank: 47.000\n",
      "Column: 21, Selected False, Rank: 6.000\n",
      "Column: 22, Selected False, Rank: 22.000\n",
      "Column: 23, Selected False, Rank: 56.000\n",
      "Column: 24, Selected False, Rank: 42.000\n",
      "Column: 25, Selected False, Rank: 43.000\n",
      "Column: 26, Selected False, Rank: 34.000\n",
      "Column: 27, Selected False, Rank: 13.000\n",
      "Column: 28, Selected False, Rank: 38.000\n",
      "Column: 29, Selected False, Rank: 44.000\n",
      "Column: 30, Selected False, Rank: 92.000\n",
      "Column: 31, Selected False, Rank: 8.000\n",
      "Column: 32, Selected False, Rank: 21.000\n",
      "Column: 33, Selected False, Rank: 26.000\n",
      "Column: 34, Selected False, Rank: 53.000\n",
      "Column: 35, Selected False, Rank: 58.000\n",
      "Column: 36, Selected False, Rank: 63.000\n",
      "Column: 37, Selected False, Rank: 55.000\n",
      "Column: 38, Selected False, Rank: 46.000\n",
      "Column: 39, Selected False, Rank: 28.000\n",
      "Column: 40, Selected False, Rank: 15.000\n",
      "Column: 41, Selected False, Rank: 35.000\n",
      "Column: 42, Selected False, Rank: 62.000\n",
      "Column: 43, Selected False, Rank: 37.000\n",
      "Column: 44, Selected False, Rank: 17.000\n",
      "Column: 45, Selected False, Rank: 64.000\n",
      "Column: 46, Selected False, Rank: 103.000\n",
      "Column: 47, Selected False, Rank: 73.000\n",
      "Column: 48, Selected False, Rank: 52.000\n",
      "Column: 49, Selected False, Rank: 76.000\n",
      "Column: 50, Selected False, Rank: 106.000\n",
      "Column: 51, Selected False, Rank: 70.000\n",
      "Column: 52, Selected False, Rank: 54.000\n",
      "Column: 53, Selected False, Rank: 108.000\n",
      "Column: 54, Selected False, Rank: 110.000\n",
      "Column: 55, Selected False, Rank: 111.000\n",
      "Column: 56, Selected False, Rank: 78.000\n",
      "Column: 57, Selected False, Rank: 109.000\n",
      "Column: 58, Selected False, Rank: 68.000\n",
      "Column: 59, Selected False, Rank: 50.000\n",
      "Column: 60, Selected False, Rank: 40.000\n",
      "Column: 61, Selected False, Rank: 69.000\n",
      "Column: 62, Selected False, Rank: 93.000\n",
      "Column: 63, Selected False, Rank: 98.000\n",
      "Column: 64, Selected False, Rank: 59.000\n",
      "Column: 65, Selected False, Rank: 18.000\n",
      "Column: 66, Selected False, Rank: 41.000\n",
      "Column: 67, Selected False, Rank: 57.000\n",
      "Column: 68, Selected False, Rank: 66.000\n",
      "Column: 69, Selected False, Rank: 39.000\n",
      "Column: 70, Selected False, Rank: 20.000\n",
      "Column: 71, Selected False, Rank: 60.000\n",
      "Column: 72, Selected False, Rank: 112.000\n",
      "Column: 73, Selected False, Rank: 81.000\n",
      "Column: 74, Selected False, Rank: 74.000\n",
      "Column: 75, Selected False, Rank: 25.000\n",
      "Column: 76, Selected False, Rank: 48.000\n",
      "Column: 77, Selected False, Rank: 71.000\n",
      "Column: 78, Selected False, Rank: 77.000\n",
      "Column: 79, Selected False, Rank: 45.000\n",
      "Column: 80, Selected False, Rank: 33.000\n",
      "Column: 81, Selected False, Rank: 75.000\n",
      "Column: 82, Selected False, Rank: 72.000\n",
      "Column: 83, Selected False, Rank: 79.000\n",
      "Column: 84, Selected False, Rank: 80.000\n",
      "Column: 85, Selected False, Rank: 100.000\n",
      "Column: 86, Selected False, Rank: 107.000\n",
      "Column: 87, Selected False, Rank: 82.000\n",
      "Column: 88, Selected False, Rank: 96.000\n",
      "Column: 89, Selected False, Rank: 105.000\n",
      "Column: 90, Selected False, Rank: 104.000\n",
      "Column: 91, Selected False, Rank: 83.000\n",
      "Column: 92, Selected False, Rank: 99.000\n",
      "Column: 93, Selected False, Rank: 36.000\n",
      "Column: 94, Selected False, Rank: 14.000\n",
      "Column: 95, Selected False, Rank: 9.000\n",
      "Column: 96, Selected False, Rank: 24.000\n",
      "Column: 97, Selected False, Rank: 97.000\n",
      "Column: 98, Selected False, Rank: 61.000\n",
      "Column: 99, Selected False, Rank: 67.000\n",
      "Column: 100, Selected False, Rank: 101.000\n",
      "Column: 101, Selected False, Rank: 85.000\n",
      "Column: 102, Selected False, Rank: 86.000\n",
      "Column: 103, Selected False, Rank: 87.000\n",
      "Column: 104, Selected False, Rank: 88.000\n",
      "Column: 105, Selected False, Rank: 89.000\n",
      "Column: 106, Selected False, Rank: 90.000\n",
      "Column: 107, Selected False, Rank: 91.000\n",
      "Column: 108, Selected False, Rank: 32.000\n",
      "Column: 109, Selected False, Rank: 10.000\n",
      "Column: 110, Selected False, Rank: 65.000\n",
      "Column: 111, Selected False, Rank: 51.000\n"
     ]
    }
   ],
   "source": [
    "#fit RFE to the Training Data\n",
    "\n",
    "# evaluate RFE for regression\n",
    "from numpy import mean\n",
    "from numpy import std\n",
    "from sklearn.datasets import make_regression\n",
    "from sklearn.model_selection import cross_val_score\n",
    "from sklearn.model_selection import RepeatedKFold\n",
    "from sklearn.feature_selection import RFE\n",
    "from sklearn.tree import DecisionTreeRegressor\n",
    "from sklearn.pipeline import Pipeline\n",
    "from sklearn.model_selection import StratifiedKFold\n",
    "\n",
    "rfecv = RFECV(estimator = DecisionTreeClassifier(), step=1,\n",
    "              cv=StratifiedKFold(5), scoring='accuracy')\n",
    "\n",
    "rfecv.fit(X,y)\n",
    "\n",
    "#print(\"Optimal number of features : %d\" % rfecv.n_features_)\n",
    "\n",
    "\n",
    "\n",
    "# # create pipeline\n",
    "# rfe = RFE(estimator=DecisionTreeRegressor(), n_features_to_select=80)\n",
    "# model = DecisionTreeRegressor()\n",
    "# pipeline = Pipeline(steps=[('s',rfe),('m',model)])\n",
    "# # evaluate model\n",
    "# cv = RepeatedKFold(n_splits=5, n_repeats=3, random_state=1)\n",
    "# n_scores = cross_val_score(pipeline, X, y, scoring='neg_mean_absolute_error', cv=cv, n_jobs=-1, error_score='raise')\n",
    "# # report performance\n",
    "# print('MAE: %.3f (%.3f)' % (mean(n_scores), std(n_scores)))"
   ]
  },
  {
   "cell_type": "code",
   "execution_count": 281,
   "metadata": {},
   "outputs": [],
   "source": [
    "# summarize all features\n",
    "cols = []\n",
    "for i in range(X.shape[1]):\n",
    "    if rfecv.ranking_[i] <= 85:\n",
    "        cols.append(i)"
   ]
  },
  {
   "cell_type": "code",
   "execution_count": 282,
   "metadata": {},
   "outputs": [],
   "source": [
    "X_ = X.iloc[:, cols]"
   ]
  },
  {
   "cell_type": "code",
   "execution_count": 352,
   "metadata": {},
   "outputs": [],
   "source": [
    "# split\n",
    "\n",
    "X_train, X_test, y_train, y_test = train_test_split(X_, y, test_size = 0.2, stratify = y, random_state = 123)"
   ]
  },
  {
   "cell_type": "markdown",
   "metadata": {},
   "source": [
    "# Balancing the Data Set"
   ]
  },
  {
   "cell_type": "code",
   "execution_count": 193,
   "metadata": {
    "collapsed": true,
    "jupyter": {
     "outputs_hidden": true
    }
   },
   "outputs": [
    {
     "data": {
      "image/png": "[encoded data removed]",
      "text/plain": [
       "<Figure size 576x432 with 1 Axes>"
      ]
     },
     "metadata": {},
     "output_type": "display_data"
    }
   ],
   "source": [
    "plt.figure(figsize=(8,6))\n",
    "sns.countplot(y_train, palette='binary')\n",
    "sns.despine()\n",
    "sns.set_style('whitegrid')\n",
    "plt.title('Imbalanced Data Set')\n",
    "plt.xticks([0,1],['Not Readmitted', 'Readmitted'], size = 12)\n",
    "plt.xlabel('')\n",
    "plt.ylabel('Count')\n",
    "plt.show()"
   ]
  },
  {
   "cell_type": "code",
   "execution_count": 268,
   "metadata": {},
   "outputs": [],
   "source": [
    "# SMOTE \n",
    "from imblearn.over_sampling import SMOTE \n",
    "sm = SMOTE(random_state=123)\n",
    "X_train_smo, y_train_smo = sm.fit_sample(X_train, y_train)"
   ]
  },
  {
   "cell_type": "code",
   "execution_count": 195,
   "metadata": {
    "collapsed": true,
    "jupyter": {
     "outputs_hidden": true
    }
   },
   "outputs": [
    {
     "data": {
      "image/png": "[encoded data removed]",
      "text/plain": [
       "<Figure size 576x432 with 1 Axes>"
      ]
     },
     "metadata": {},
     "output_type": "display_data"
    }
   ],
   "source": [
    "plt.figure(figsize=(8,6))\n",
    "sns.countplot(y_train_smo, palette='binary')\n",
    "sns.despine()\n",
    "sns.set_style('whitegrid')\n",
    "plt.title('Balanced Dataset')\n",
    "plt.xticks([0,1],['Not Readmitted', 'Readmitted'], size = 12)\n",
    "plt.xlabel('')\n",
    "plt.ylabel('Count')\n",
    "plt.show()"
   ]
  },
  {
   "cell_type": "markdown",
   "metadata": {},
   "source": [
    "## Model Base Line"
   ]
  },
  {
   "cell_type": "code",
   "execution_count": 184,
   "metadata": {},
   "outputs": [],
   "source": [
    "from sklearn.metrics import roc_auc_score, accuracy_score, precision_score, recall_score\n",
    "def calc_specificity(y_actual, y_pred, thresh):\n",
    "    # calculates specificity\n",
    "    return sum((y_pred < thresh) & (y_actual == 0)) /sum(y_actual ==0)\n",
    "\n",
    "def calc_prevalence(y_actual):\n",
    "    return (sum(y_actual)/len(y_actual))\n",
    "\n",
    "def print_report(y_actual, y_pred, thresh):\n",
    "    \n",
    "    auc = roc_auc_score(y_actual, y_pred)\n",
    "    accuracy = accuracy_score(y_actual, (y_pred > thresh))\n",
    "    recall = recall_score(y_actual, (y_pred > thresh))\n",
    "    precision = precision_score(y_actual, (y_pred > thresh))\n",
    "    specificity = calc_specificity(y_actual, y_pred, thresh)\n",
    "    print('AUC:%.3f'%auc)\n",
    "    print('accuracy:%.3f'%accuracy)\n",
    "    print('recall:%.3f'%recall)\n",
    "    print('precision:%.3f'%precision)\n",
    "    print('specificity:%.3f'%specificity)\n",
    "    print('prevalence:%.3f'%calc_prevalence(y_actual))\n",
    "    print(' ')\n",
    "    return auc, accuracy, recall, precision, specificity"
   ]
  },
  {
   "cell_type": "code",
   "execution_count": 185,
   "metadata": {},
   "outputs": [],
   "source": [
    "thresh = 0.5"
   ]
  },
  {
   "cell_type": "markdown",
   "metadata": {},
   "source": [
    "## Logistic regression"
   ]
  },
  {
   "cell_type": "code",
   "execution_count": 186,
   "metadata": {
    "collapsed": true,
    "jupyter": {
     "outputs_hidden": true
    }
   },
   "outputs": [
    {
     "data": {
      "text/plain": [
       "LogisticRegression(random_state=123)"
      ]
     },
     "execution_count": 186,
     "metadata": {},
     "output_type": "execute_result"
    }
   ],
   "source": [
    "# logistic regression\n",
    "from sklearn.linear_model import LogisticRegression\n",
    "lr=LogisticRegression(random_state = 123)\n",
    "lr.fit(X_train_smo, y_train_smo)"
   ]
  },
  {
   "cell_type": "code",
   "execution_count": 187,
   "metadata": {
    "collapsed": true,
    "jupyter": {
     "outputs_hidden": true
    }
   },
   "outputs": [
    {
     "name": "stdout",
     "output_type": "stream",
     "text": [
      "Logistic Regression\n",
      "Training:\n",
      "AUC:0.533\n",
      "accuracy:0.887\n",
      "recall:0.045\n",
      "precision:0.121\n",
      "specificity:0.969\n",
      "prevalence:0.088\n",
      " \n",
      "Test:\n",
      "AUC:0.535\n",
      "accuracy:0.884\n",
      "recall:0.053\n",
      "precision:0.124\n",
      "specificity:0.964\n",
      "prevalence:0.088\n",
      " \n"
     ]
    }
   ],
   "source": [
    "y_train_preds = lr.predict_proba(X_train)[:,1]\n",
    "y_valid_preds = lr.predict_proba(X_test)[:,1]\n",
    "\n",
    "print('Logistic Regression')\n",
    "print('Training:')\n",
    "lr_train_auc, lr_train_accuracy, lr_train_recall, \\\n",
    "    lr_train_precision, lr_train_specificity = print_report(y_train,y_train_preds, thresh)\n",
    "print('Test:')\n",
    "lr_valid_auc, lr_valid_accuracy, lr_valid_recall, \\\n",
    "    lr_valid_precision, lr_valid_specificity = print_report(y_test,y_valid_preds, thresh)"
   ]
  },
  {
   "cell_type": "code",
   "execution_count": 156,
   "metadata": {
    "collapsed": true,
    "jupyter": {
     "outputs_hidden": true
    }
   },
   "outputs": [
    {
     "data": {
      "text/html": [
       "<style  type=\"text/css\" >\n",
       "</style><table id=\"T_459a8176_4237_11eb_b265_0c5415878a06\" ><thead>    <tr>        <th class=\"col_heading level0 col0\" >Quantile</th>        <th class=\"col_heading level0 col1\" >Unique Patients</th>        <th class=\"col_heading level0 col2\" ># Readmitted</th>        <th class=\"col_heading level0 col3\" >Min Prob</th>        <th class=\"col_heading level0 col4\" >Max Prob</th>        <th class=\"col_heading level0 col5\" >Average Prob</th>        <th class=\"col_heading level0 col6\" >Percent Readmitted</th>        <th class=\"col_heading level0 col7\" >Lift</th>    </tr></thead><tbody>\n",
       "                <tr>\n",
       "                                <td id=\"T_459a8176_4237_11eb_b265_0c5415878a06row0_col0\" class=\"data row0 col0\" >1</td>\n",
       "                        <td id=\"T_459a8176_4237_11eb_b265_0c5415878a06row0_col1\" class=\"data row0 col1\" >1754</td>\n",
       "                        <td id=\"T_459a8176_4237_11eb_b265_0c5415878a06row0_col2\" class=\"data row0 col2\" >108</td>\n",
       "                        <td id=\"T_459a8176_4237_11eb_b265_0c5415878a06row0_col3\" class=\"data row0 col3\" >0.442351</td>\n",
       "                        <td id=\"T_459a8176_4237_11eb_b265_0c5415878a06row0_col4\" class=\"data row0 col4\" >0.465154</td>\n",
       "                        <td id=\"T_459a8176_4237_11eb_b265_0c5415878a06row0_col5\" class=\"data row0 col5\" >0.458631</td>\n",
       "                        <td id=\"T_459a8176_4237_11eb_b265_0c5415878a06row0_col6\" class=\"data row0 col6\" >0.061574</td>\n",
       "                        <td id=\"T_459a8176_4237_11eb_b265_0c5415878a06row0_col7\" class=\"data row0 col7\" >0.695201</td>\n",
       "            </tr>\n",
       "            <tr>\n",
       "                                <td id=\"T_459a8176_4237_11eb_b265_0c5415878a06row1_col0\" class=\"data row1 col0\" >2</td>\n",
       "                        <td id=\"T_459a8176_4237_11eb_b265_0c5415878a06row1_col1\" class=\"data row1 col1\" >1423</td>\n",
       "                        <td id=\"T_459a8176_4237_11eb_b265_0c5415878a06row1_col2\" class=\"data row1 col2\" >120</td>\n",
       "                        <td id=\"T_459a8176_4237_11eb_b265_0c5415878a06row1_col3\" class=\"data row1 col3\" >0.468972</td>\n",
       "                        <td id=\"T_459a8176_4237_11eb_b265_0c5415878a06row1_col4\" class=\"data row1 col4\" >0.472793</td>\n",
       "                        <td id=\"T_459a8176_4237_11eb_b265_0c5415878a06row1_col5\" class=\"data row1 col5\" >0.470996</td>\n",
       "                        <td id=\"T_459a8176_4237_11eb_b265_0c5415878a06row1_col6\" class=\"data row1 col6\" >0.084329</td>\n",
       "                        <td id=\"T_459a8176_4237_11eb_b265_0c5415878a06row1_col7\" class=\"data row1 col7\" >0.952122</td>\n",
       "            </tr>\n",
       "            <tr>\n",
       "                                <td id=\"T_459a8176_4237_11eb_b265_0c5415878a06row2_col0\" class=\"data row2 col0\" >3</td>\n",
       "                        <td id=\"T_459a8176_4237_11eb_b265_0c5415878a06row2_col1\" class=\"data row2 col1\" >1504</td>\n",
       "                        <td id=\"T_459a8176_4237_11eb_b265_0c5415878a06row2_col2\" class=\"data row2 col2\" >134</td>\n",
       "                        <td id=\"T_459a8176_4237_11eb_b265_0c5415878a06row2_col3\" class=\"data row2 col3\" >0.476617</td>\n",
       "                        <td id=\"T_459a8176_4237_11eb_b265_0c5415878a06row2_col4\" class=\"data row2 col4\" >0.480444</td>\n",
       "                        <td id=\"T_459a8176_4237_11eb_b265_0c5415878a06row2_col5\" class=\"data row2 col5\" >0.478492</td>\n",
       "                        <td id=\"T_459a8176_4237_11eb_b265_0c5415878a06row2_col6\" class=\"data row2 col6\" >0.089096</td>\n",
       "                        <td id=\"T_459a8176_4237_11eb_b265_0c5415878a06row2_col7\" class=\"data row2 col7\" >1.005943</td>\n",
       "            </tr>\n",
       "            <tr>\n",
       "                                <td id=\"T_459a8176_4237_11eb_b265_0c5415878a06row3_col0\" class=\"data row3 col0\" >4</td>\n",
       "                        <td id=\"T_459a8176_4237_11eb_b265_0c5415878a06row3_col1\" class=\"data row3 col1\" >1762</td>\n",
       "                        <td id=\"T_459a8176_4237_11eb_b265_0c5415878a06row3_col2\" class=\"data row3 col2\" >157</td>\n",
       "                        <td id=\"T_459a8176_4237_11eb_b265_0c5415878a06row3_col3\" class=\"data row3 col3\" >0.484273</td>\n",
       "                        <td id=\"T_459a8176_4237_11eb_b265_0c5415878a06row3_col4\" class=\"data row3 col4\" >0.488104</td>\n",
       "                        <td id=\"T_459a8176_4237_11eb_b265_0c5415878a06row3_col5\" class=\"data row3 col5\" >0.486280</td>\n",
       "                        <td id=\"T_459a8176_4237_11eb_b265_0c5415878a06row3_col6\" class=\"data row3 col6\" >0.089103</td>\n",
       "                        <td id=\"T_459a8176_4237_11eb_b265_0c5415878a06row3_col7\" class=\"data row3 col7\" >1.006028</td>\n",
       "            </tr>\n",
       "            <tr>\n",
       "                                <td id=\"T_459a8176_4237_11eb_b265_0c5415878a06row4_col0\" class=\"data row4 col0\" >5</td>\n",
       "                        <td id=\"T_459a8176_4237_11eb_b265_0c5415878a06row4_col1\" class=\"data row4 col1\" >827</td>\n",
       "                        <td id=\"T_459a8176_4237_11eb_b265_0c5415878a06row4_col2\" class=\"data row4 col2\" >71</td>\n",
       "                        <td id=\"T_459a8176_4237_11eb_b265_0c5415878a06row4_col3\" class=\"data row4 col3\" >0.491937</td>\n",
       "                        <td id=\"T_459a8176_4237_11eb_b265_0c5415878a06row4_col4\" class=\"data row4 col4\" >0.491937</td>\n",
       "                        <td id=\"T_459a8176_4237_11eb_b265_0c5415878a06row4_col5\" class=\"data row4 col5\" >0.491937</td>\n",
       "                        <td id=\"T_459a8176_4237_11eb_b265_0c5415878a06row4_col6\" class=\"data row4 col6\" >0.085852</td>\n",
       "                        <td id=\"T_459a8176_4237_11eb_b265_0c5415878a06row4_col7\" class=\"data row4 col7\" >0.969325</td>\n",
       "            </tr>\n",
       "            <tr>\n",
       "                                <td id=\"T_459a8176_4237_11eb_b265_0c5415878a06row5_col0\" class=\"data row5 col0\" >6</td>\n",
       "                        <td id=\"T_459a8176_4237_11eb_b265_0c5415878a06row5_col1\" class=\"data row5 col1\" >1574</td>\n",
       "                        <td id=\"T_459a8176_4237_11eb_b265_0c5415878a06row5_col2\" class=\"data row5 col2\" >163</td>\n",
       "                        <td id=\"T_459a8176_4237_11eb_b265_0c5415878a06row5_col3\" class=\"data row5 col3\" >0.495770</td>\n",
       "                        <td id=\"T_459a8176_4237_11eb_b265_0c5415878a06row5_col4\" class=\"data row5 col4\" >0.499604</td>\n",
       "                        <td id=\"T_459a8176_4237_11eb_b265_0c5415878a06row5_col5\" class=\"data row5 col5\" >0.497614</td>\n",
       "                        <td id=\"T_459a8176_4237_11eb_b265_0c5415878a06row5_col6\" class=\"data row5 col6\" >0.103558</td>\n",
       "                        <td id=\"T_459a8176_4237_11eb_b265_0c5415878a06row5_col7\" class=\"data row5 col7\" >1.169228</td>\n",
       "            </tr>\n",
       "            <tr>\n",
       "                                <td id=\"T_459a8176_4237_11eb_b265_0c5415878a06row6_col0\" class=\"data row6 col0\" >7</td>\n",
       "                        <td id=\"T_459a8176_4237_11eb_b265_0c5415878a06row6_col1\" class=\"data row6 col1\" >1238</td>\n",
       "                        <td id=\"T_459a8176_4237_11eb_b265_0c5415878a06row6_col2\" class=\"data row6 col2\" >123</td>\n",
       "                        <td id=\"T_459a8176_4237_11eb_b265_0c5415878a06row6_col3\" class=\"data row6 col3\" >0.503438</td>\n",
       "                        <td id=\"T_459a8176_4237_11eb_b265_0c5415878a06row6_col4\" class=\"data row6 col4\" >0.507272</td>\n",
       "                        <td id=\"T_459a8176_4237_11eb_b265_0c5415878a06row6_col5\" class=\"data row6 col5\" >0.505259</td>\n",
       "                        <td id=\"T_459a8176_4237_11eb_b265_0c5415878a06row6_col6\" class=\"data row6 col6\" >0.099354</td>\n",
       "                        <td id=\"T_459a8176_4237_11eb_b265_0c5415878a06row6_col7\" class=\"data row6 col7\" >1.121762</td>\n",
       "            </tr>\n",
       "            <tr>\n",
       "                                <td id=\"T_459a8176_4237_11eb_b265_0c5415878a06row7_col0\" class=\"data row7 col0\" >8</td>\n",
       "                        <td id=\"T_459a8176_4237_11eb_b265_0c5415878a06row7_col1\" class=\"data row7 col1\" >1435</td>\n",
       "                        <td id=\"T_459a8176_4237_11eb_b265_0c5415878a06row7_col2\" class=\"data row7 col2\" >121</td>\n",
       "                        <td id=\"T_459a8176_4237_11eb_b265_0c5415878a06row7_col3\" class=\"data row7 col3\" >0.511104</td>\n",
       "                        <td id=\"T_459a8176_4237_11eb_b265_0c5415878a06row7_col4\" class=\"data row7 col4\" >0.518766</td>\n",
       "                        <td id=\"T_459a8176_4237_11eb_b265_0c5415878a06row7_col5\" class=\"data row7 col5\" >0.514540</td>\n",
       "                        <td id=\"T_459a8176_4237_11eb_b265_0c5415878a06row7_col6\" class=\"data row7 col6\" >0.084321</td>\n",
       "                        <td id=\"T_459a8176_4237_11eb_b265_0c5415878a06row7_col7\" class=\"data row7 col7\" >0.952028</td>\n",
       "            </tr>\n",
       "            <tr>\n",
       "                                <td id=\"T_459a8176_4237_11eb_b265_0c5415878a06row8_col0\" class=\"data row8 col0\" >9</td>\n",
       "                        <td id=\"T_459a8176_4237_11eb_b265_0c5415878a06row8_col1\" class=\"data row8 col1\" >1454</td>\n",
       "                        <td id=\"T_459a8176_4237_11eb_b265_0c5415878a06row8_col2\" class=\"data row8 col2\" >130</td>\n",
       "                        <td id=\"T_459a8176_4237_11eb_b265_0c5415878a06row8_col3\" class=\"data row8 col3\" >0.522593</td>\n",
       "                        <td id=\"T_459a8176_4237_11eb_b265_0c5415878a06row8_col4\" class=\"data row8 col4\" >0.537872</td>\n",
       "                        <td id=\"T_459a8176_4237_11eb_b265_0c5415878a06row8_col5\" class=\"data row8 col5\" >0.529217</td>\n",
       "                        <td id=\"T_459a8176_4237_11eb_b265_0c5415878a06row8_col6\" class=\"data row8 col6\" >0.089409</td>\n",
       "                        <td id=\"T_459a8176_4237_11eb_b265_0c5415878a06row8_col7\" class=\"data row8 col7\" >1.009475</td>\n",
       "            </tr>\n",
       "            <tr>\n",
       "                                <td id=\"T_459a8176_4237_11eb_b265_0c5415878a06row9_col0\" class=\"data row9 col0\" >10</td>\n",
       "                        <td id=\"T_459a8176_4237_11eb_b265_0c5415878a06row9_col1\" class=\"data row9 col1\" >1332</td>\n",
       "                        <td id=\"T_459a8176_4237_11eb_b265_0c5415878a06row9_col2\" class=\"data row9 col2\" >132</td>\n",
       "                        <td id=\"T_459a8176_4237_11eb_b265_0c5415878a06row9_col3\" class=\"data row9 col3\" >0.541682</td>\n",
       "                        <td id=\"T_459a8176_4237_11eb_b265_0c5415878a06row9_col4\" class=\"data row9 col4\" >0.730128</td>\n",
       "                        <td id=\"T_459a8176_4237_11eb_b265_0c5415878a06row9_col5\" class=\"data row9 col5\" >0.568777</td>\n",
       "                        <td id=\"T_459a8176_4237_11eb_b265_0c5415878a06row9_col6\" class=\"data row9 col6\" >0.099099</td>\n",
       "                        <td id=\"T_459a8176_4237_11eb_b265_0c5415878a06row9_col7\" class=\"data row9 col7\" >1.118887</td>\n",
       "            </tr>\n",
       "    </tbody></table>"
      ],
      "text/plain": [
       "<pandas.io.formats.style.Styler at 0x212011b5b80>"
      ]
     },
     "execution_count": 156,
     "metadata": {},
     "output_type": "execute_result"
    }
   ],
   "source": [
    "readmit_proba = [i[1] for i in lr.predict_proba(X_test)]\n",
    "quant = pd.qcut(readmit_proba,10,labels=np.arange(1,11))\n",
    "prob = {'Quantile':quant,'# Readmitted':readmit_proba,'y':y_test}\n",
    "\n",
    "deciles_lr = pd.DataFrame(prob).sort_values('Quantile')\n",
    "dec1 = deciles_lr.groupby('Quantile')['# Readmitted'].agg(['count','min','max','mean']).reset_index()\n",
    "dec2 = deciles_lr.groupby(['Quantile','y']).count().reset_index()\n",
    "dec2 = dec2[dec2['y']==1]\n",
    "deciles_lr = pd.merge(dec2, dec1, how='inner',on ='Quantile').drop('y',1).\\\n",
    "        rename({'count':'Unique Patients', 'min':'Min Prob', 'mean':'Average Prob','max':'Max Prob'},axis=1)\n",
    "\n",
    "deciles_lr = deciles_lr[deciles_lr.columns[[0,2,1,3,4,5]]]\n",
    "deciles_lr['Percent Readmitted'] = deciles_lr['# Readmitted']/deciles_lr['Unique Patients']\n",
    "deciles_lr['Lift'] = deciles_lr['Percent Readmitted'].apply(lambda x:10*x/deciles_lr['Percent Readmitted'].sum())\n",
    "deciles_lr.style.hide_index()"
   ]
  },
  {
   "cell_type": "code",
   "execution_count": 157,
   "metadata": {
    "collapsed": true,
    "jupyter": {
     "outputs_hidden": true
    }
   },
   "outputs": [
    {
     "name": "stdout",
     "output_type": "stream",
     "text": [
      "\n",
      "If the top two quantiles are targeted instead of a random sampling, the percent readmitted increases from 0.088 to 0.1885\n",
      "\n"
     ]
    },
    {
     "data": {
      "text/html": [
       "<div>\n",
       "<style scoped>\n",
       "    .dataframe tbody tr th:only-of-type {\n",
       "        vertical-align: middle;\n",
       "    }\n",
       "\n",
       "    .dataframe tbody tr th {\n",
       "        vertical-align: top;\n",
       "    }\n",
       "\n",
       "    .dataframe thead th {\n",
       "        text-align: right;\n",
       "    }\n",
       "</style>\n",
       "<table border=\"1\" class=\"dataframe\">\n",
       "  <thead>\n",
       "    <tr style=\"text-align: right;\">\n",
       "      <th></th>\n",
       "      <th>Unique Patients</th>\n",
       "      <th># Readmitted</th>\n",
       "      <th>Percent Readmitted</th>\n",
       "    </tr>\n",
       "  </thead>\n",
       "  <tbody>\n",
       "    <tr>\n",
       "      <th>Random Sampling</th>\n",
       "      <td>14303</td>\n",
       "      <td>1259</td>\n",
       "      <td>0.088023</td>\n",
       "    </tr>\n",
       "    <tr>\n",
       "      <th>Top 2 Quantiles</th>\n",
       "      <td>2786</td>\n",
       "      <td>262</td>\n",
       "      <td>0.094042</td>\n",
       "    </tr>\n",
       "  </tbody>\n",
       "</table>\n",
       "</div>"
      ],
      "text/plain": [
       "                 Unique Patients  # Readmitted  Percent Readmitted\n",
       "Random Sampling            14303          1259            0.088023\n",
       "Top 2 Quantiles             2786           262            0.094042"
      ]
     },
     "execution_count": 157,
     "metadata": {},
     "output_type": "execute_result"
    }
   ],
   "source": [
    "tot_compdic = {'Unique Patients': [deciles_lr['Unique Patients'].sum(), deciles_lr['Unique Patients'][8] + deciles_lr['Unique Patients'][9]], \n",
    "               '# Readmitted': [deciles_lr['# Readmitted'].sum(), deciles_lr['# Readmitted'][8] + deciles_lr['# Readmitted'][9]]}\n",
    "\n",
    "tot_compdic['Percent Readmitted'] = [tot_compdic['# Readmitted'][0]/tot_compdic['Unique Patients'][0],\n",
    "                                     tot_compdic['# Readmitted'][1]/tot_compdic['Unique Patients'][1]]\n",
    "\n",
    "tot_compdf = pd.DataFrame(tot_compdic, index = ['Random Sampling','Top 2 Quantiles'])\n",
    "\n",
    "lr_readmit_rand = tot_compdf['Percent Readmitted'][0].round(4)\n",
    "lr_readmit_top_2 = (deciles_lr['Percent Readmitted'][8] + deciles_lr['Percent Readmitted'][9]).round(4)\n",
    "\n",
    "print('')\n",
    "print(f'If the top two quantiles are targeted instead of a random sampling, the percent readmitted increases from',\n",
    "      lr_readmit_rand, 'to',lr_readmit_top_2)\n",
    "print('')\n",
    "tot_compdf"
   ]
  },
  {
   "cell_type": "code",
   "execution_count": null,
   "metadata": {},
   "outputs": [],
   "source": [
    "lr_feat_dict = {'Feature':X_train_res.columns, 'Feature Importance':lr.coef_.reshape(lr.coef_.shape[1],)}\n",
    "lr_feat_df = pd.DataFrame(lr_feat_dict)\n",
    "lr_feat_df = lr_feat_df.sort_values('Feature Importance', ascending=False).head(10)\n",
    "lr_feat_df\n",
    "\n",
    "plt.figure()\n",
    "sns.barplot(x = lr_feat_df['Feature Importance'], y = lr_feat_df['Feature'], palette = 'binary_r')\n",
    "sns.set_style('whitegrid')\n",
    "plt.title('Feature Importance: Logistic Regression')\n",
    "plt.xlabel('Feature Importance')\n",
    "plt.ylabel('Feature')"
   ]
  },
  {
   "cell_type": "markdown",
   "metadata": {},
   "source": [
    "## Logistic Regression CV"
   ]
  },
  {
   "cell_type": "code",
   "execution_count": 269,
   "metadata": {},
   "outputs": [
    {
     "data": {
      "text/plain": [
       "LogisticRegressionCV(random_state=123)"
      ]
     },
     "execution_count": 269,
     "metadata": {},
     "output_type": "execute_result"
    }
   ],
   "source": [
    "# logistic regression CV\n",
    "from sklearn.linear_model import LogisticRegressionCV\n",
    "lr_cv=LogisticRegressionCV(random_state = 123)\n",
    "lr_cv.fit(X_train_smo, y_train_smo)"
   ]
  },
  {
   "cell_type": "code",
   "execution_count": 270,
   "metadata": {},
   "outputs": [
    {
     "name": "stdout",
     "output_type": "stream",
     "text": [
      "Logistic Regression CV\n",
      "Training:\n",
      "AUC:0.603\n",
      "accuracy:0.912\n",
      "recall:0.004\n",
      "precision:0.429\n",
      "specificity:1.000\n",
      "prevalence:0.088\n",
      " \n",
      "Test:\n",
      "AUC:0.601\n",
      "accuracy:0.912\n",
      "recall:0.002\n",
      "precision:0.250\n",
      "specificity:1.000\n",
      "prevalence:0.088\n",
      " \n"
     ]
    }
   ],
   "source": [
    "y_train_preds = lr_cv.predict_proba(X_train)[:,1]\n",
    "y_valid_preds = lr_cv.predict_proba(X_test)[:,1]\n",
    "\n",
    "print('Logistic Regression CV')\n",
    "print('Training:')\n",
    "lr_train_auc, lr_train_accuracy, lr_train_recall, \\\n",
    "    lr_train_precision, lr_train_specificity = print_report(y_train,y_train_preds, thresh)\n",
    "print('Test:')\n",
    "lr_valid_auc, lr_valid_accuracy, lr_valid_recall, \\\n",
    "    lr_valid_precision, lr_valid_specificity = print_report(y_test,y_valid_preds, thresh)"
   ]
  },
  {
   "cell_type": "code",
   "execution_count": null,
   "metadata": {},
   "outputs": [],
   "source": [
    "readmit_proba = [i[1] for i in lr_cv.predict_proba(X_test)]\n",
    "quant = pd.qcut(readmit_proba,10,labels=np.arange(1,11))\n",
    "prob = {'Quantile':quant,'# Readmitted':readmit_proba,'y':y_test}\n",
    "\n",
    "decile_lrcv = pd.DataFrame(prob).sort_values('Quantile')\n",
    "dec1 = decile_lrcv.groupby('Quantile')['# Readmitted'].agg(['count','min','max','mean']).reset_index()\n",
    "dec2 = decile_lrcv.groupby(['Quantile','y']).count().reset_index()\n",
    "dec2 = dec2[dec2['y']==1]\n",
    "decile_lrcv = pd.merge(dec2, dec1, how='inner',on ='Quantile').drop('y',1).\\\n",
    "        rename({'count':'Unique Patients', 'min':'Min Prob', 'mean':'Average Prob','max':'Max Prob'},axis=1)\n",
    "\n",
    "decile_lrcv = decile_lrcv[decile_lrcv.columns[[0,2,1,3,4,5]]]\n",
    "decile_lrcv['Percent Readmitted'] = decile_lrcv['# Readmitted']/decile_lrcv['Unique Patients']\n",
    "decile_lrcv['Lift'] = decile_lrcv['Percent Readmitted'].apply(lambda x:10*x/decile_lrcv['Percent Readmitted'].sum())\n",
    "decile_lrcv.style.hide_index()"
   ]
  },
  {
   "cell_type": "code",
   "execution_count": null,
   "metadata": {},
   "outputs": [],
   "source": [
    "tot_compdic_lrcv = {'Unique Patients': [decile_lrcv['Unique Patients'].sum(), decile_lrcv['Unique Patients'][8] + decile_lrcv['Unique Patients'][9]], \n",
    "               '# Readmitted': [decile_lrcv['# Readmitted'].sum(), decile_lrcv['# Readmitted'][8] + decile_lrcv['# Readmitted'][9]]}\n",
    "\n",
    "tot_compdic_lrcv['Percent Readmitted'] = [tot_compdic_lrcv['# Readmitted'][0]/tot_compdic_lrcv['Unique Patients'][0],\n",
    "                                      tot_compdic['# Readmitted'][1]/tot_compdic['Unique Patients'][1]]\n",
    "\n",
    "tot_compdf_lrcv = pd.DataFrame(tot_compdic_lrcv, index = ['Random Sampling','Top 2 Quantiles'])\n",
    "\n",
    "lr_readmit_rand = tot_compdf_lrcv['Percent Readmitted'][0].round(4)\n",
    "lr_readmit_top_2 = (decile_lrcv['Percent Readmitted'][8] + decile_lrcv['Percent Readmitted'][9]).round(4)\n",
    "\n",
    "print('')\n",
    "print(f'If the top two quantiles are targeted instead of a random sampling, the percent readmitted increases from',\n",
    "      lr_readmit_rand, 'to',lr_readmit_top_2)\n",
    "print('')\n",
    "tot_compdf_lrcv"
   ]
  },
  {
   "cell_type": "code",
   "execution_count": null,
   "metadata": {},
   "outputs": [],
   "source": [
    "lrcv_feat_dict = {'Feature':X_train_res.columns, 'Feature Importance':lr_cv.coef_.reshape(lr.coef_.shape[1],)}\n",
    "lrcv_feat_df = pd.DataFrame(lrcv_feat_dict)\n",
    "lrcv_feat_df = lrcv_feat_df.sort_values('Feature Importance', ascending=False).head(10)\n",
    "\n",
    "plt.figure()\n",
    "sns.barplot(x = lrcv_feat_df['Feature Importance'], y = lrcv_feat_df['Feature'], palette = 'binary_r')\n",
    "sns.set_style('whitegrid')\n",
    "plt.title('Feature Importance: Logistic Regression with Cross Validation')\n",
    "plt.xlabel('Feature Importance')\n",
    "plt.ylabel('Feature')"
   ]
  },
  {
   "cell_type": "code",
   "execution_count": 366,
   "metadata": {},
   "outputs": [
    {
     "data": {
      "text/plain": [
       "<matplotlib.axes._subplots.AxesSubplot at 0x2120106c0a0>"
      ]
     },
     "execution_count": 366,
     "metadata": {},
     "output_type": "execute_result"
    },
    {
     "data": {
      "image/png": "[encoded data removed]",
      "text/plain": [
       "<Figure size 576x396 with 1 Axes>"
      ]
     },
     "metadata": {},
     "output_type": "display_data"
    }
   ],
   "source": [
    "sns.barplot(x='group', y=\"readmitted\", data=genderdf)"
   ]
  },
  {
   "cell_type": "code",
   "execution_count": 353,
   "metadata": {},
   "outputs": [],
   "source": [
    "train = X_train.assign(readmitted = y_train)"
   ]
  },
  {
   "cell_type": "code",
   "execution_count": 360,
   "metadata": {},
   "outputs": [],
   "source": [
    "maledf = {'group': 'Male',\n",
    "         'readmitted': df.loc[df['gender']=='Male', 'readmitted']}\n",
    "\n",
    "femaledf = {'group': 'Female',\n",
    "         'readmitted': df.loc[df['gender']=='Female', 'readmitted']}\n",
    "\n",
    "maledf = pd.DataFrame(maledf)\n",
    "femaledf = pd.DataFrame(femaledf)\n",
    "\n",
    "genderdf = maledf.append(femaledf)"
   ]
  },
  {
   "cell_type": "code",
   "execution_count": 355,
   "metadata": {},
   "outputs": [
    {
     "data": {
      "text/html": [
       "<div>\n",
       "<style scoped>\n",
       "    .dataframe tbody tr th:only-of-type {\n",
       "        vertical-align: middle;\n",
       "    }\n",
       "\n",
       "    .dataframe tbody tr th {\n",
       "        vertical-align: top;\n",
       "    }\n",
       "\n",
       "    .dataframe thead th {\n",
       "        text-align: right;\n",
       "    }\n",
       "</style>\n",
       "<table border=\"1\" class=\"dataframe\">\n",
       "  <thead>\n",
       "    <tr style=\"text-align: right;\">\n",
       "      <th></th>\n",
       "      <th>group</th>\n",
       "      <th>readmitted</th>\n",
       "    </tr>\n",
       "  </thead>\n",
       "  <tbody>\n",
       "    <tr>\n",
       "      <th>70235</th>\n",
       "      <td>Male</td>\n",
       "      <td>0</td>\n",
       "    </tr>\n",
       "    <tr>\n",
       "      <th>32317</th>\n",
       "      <td>Male</td>\n",
       "      <td>0</td>\n",
       "    </tr>\n",
       "    <tr>\n",
       "      <th>66397</th>\n",
       "      <td>Male</td>\n",
       "      <td>0</td>\n",
       "    </tr>\n",
       "    <tr>\n",
       "      <th>18752</th>\n",
       "      <td>Male</td>\n",
       "      <td>0</td>\n",
       "    </tr>\n",
       "    <tr>\n",
       "      <th>68109</th>\n",
       "      <td>Male</td>\n",
       "      <td>0</td>\n",
       "    </tr>\n",
       "    <tr>\n",
       "      <th>...</th>\n",
       "      <td>...</td>\n",
       "      <td>...</td>\n",
       "    </tr>\n",
       "    <tr>\n",
       "      <th>22592</th>\n",
       "      <td>Male</td>\n",
       "      <td>0</td>\n",
       "    </tr>\n",
       "    <tr>\n",
       "      <th>48240</th>\n",
       "      <td>Male</td>\n",
       "      <td>0</td>\n",
       "    </tr>\n",
       "    <tr>\n",
       "      <th>70884</th>\n",
       "      <td>Male</td>\n",
       "      <td>0</td>\n",
       "    </tr>\n",
       "    <tr>\n",
       "      <th>58493</th>\n",
       "      <td>Male</td>\n",
       "      <td>0</td>\n",
       "    </tr>\n",
       "    <tr>\n",
       "      <th>63062</th>\n",
       "      <td>Male</td>\n",
       "      <td>0</td>\n",
       "    </tr>\n",
       "  </tbody>\n",
       "</table>\n",
       "<p>26845 rows × 2 columns</p>\n",
       "</div>"
      ],
      "text/plain": [
       "      group  readmitted\n",
       "70235  Male           0\n",
       "32317  Male           0\n",
       "66397  Male           0\n",
       "18752  Male           0\n",
       "68109  Male           0\n",
       "...     ...         ...\n",
       "22592  Male           0\n",
       "48240  Male           0\n",
       "70884  Male           0\n",
       "58493  Male           0\n",
       "63062  Male           0\n",
       "\n",
       "[26845 rows x 2 columns]"
      ]
     },
     "execution_count": 355,
     "metadata": {},
     "output_type": "execute_result"
    }
   ],
   "source": [
    "maledf"
   ]
  },
  {
   "cell_type": "code",
   "execution_count": 364,
   "metadata": {},
   "outputs": [
    {
     "data": {
      "text/html": [
       "<div>\n",
       "<style scoped>\n",
       "    .dataframe tbody tr th:only-of-type {\n",
       "        vertical-align: middle;\n",
       "    }\n",
       "\n",
       "    .dataframe tbody tr th {\n",
       "        vertical-align: top;\n",
       "    }\n",
       "\n",
       "    .dataframe thead th {\n",
       "        text-align: right;\n",
       "    }\n",
       "</style>\n",
       "<table border=\"1\" class=\"dataframe\">\n",
       "  <thead>\n",
       "    <tr style=\"text-align: right;\">\n",
       "      <th></th>\n",
       "      <th>group</th>\n",
       "      <th>readmitted</th>\n",
       "    </tr>\n",
       "  </thead>\n",
       "  <tbody>\n",
       "    <tr>\n",
       "      <th>3</th>\n",
       "      <td>Male</td>\n",
       "      <td>0</td>\n",
       "    </tr>\n",
       "    <tr>\n",
       "      <th>4</th>\n",
       "      <td>Male</td>\n",
       "      <td>0</td>\n",
       "    </tr>\n",
       "    <tr>\n",
       "      <th>5</th>\n",
       "      <td>Male</td>\n",
       "      <td>0</td>\n",
       "    </tr>\n",
       "    <tr>\n",
       "      <th>6</th>\n",
       "      <td>Male</td>\n",
       "      <td>0</td>\n",
       "    </tr>\n",
       "    <tr>\n",
       "      <th>7</th>\n",
       "      <td>Male</td>\n",
       "      <td>0</td>\n",
       "    </tr>\n",
       "    <tr>\n",
       "      <th>...</th>\n",
       "      <td>...</td>\n",
       "      <td>...</td>\n",
       "    </tr>\n",
       "    <tr>\n",
       "      <th>71511</th>\n",
       "      <td>Female</td>\n",
       "      <td>0</td>\n",
       "    </tr>\n",
       "    <tr>\n",
       "      <th>71513</th>\n",
       "      <td>Female</td>\n",
       "      <td>0</td>\n",
       "    </tr>\n",
       "    <tr>\n",
       "      <th>71514</th>\n",
       "      <td>Female</td>\n",
       "      <td>0</td>\n",
       "    </tr>\n",
       "    <tr>\n",
       "      <th>71515</th>\n",
       "      <td>Female</td>\n",
       "      <td>0</td>\n",
       "    </tr>\n",
       "    <tr>\n",
       "      <th>71516</th>\n",
       "      <td>Female</td>\n",
       "      <td>0</td>\n",
       "    </tr>\n",
       "  </tbody>\n",
       "</table>\n",
       "<p>71515 rows × 2 columns</p>\n",
       "</div>"
      ],
      "text/plain": [
       "        group  readmitted\n",
       "3        Male           0\n",
       "4        Male           0\n",
       "5        Male           0\n",
       "6        Male           0\n",
       "7        Male           0\n",
       "...       ...         ...\n",
       "71511  Female           0\n",
       "71513  Female           0\n",
       "71514  Female           0\n",
       "71515  Female           0\n",
       "71516  Female           0\n",
       "\n",
       "[71515 rows x 2 columns]"
      ]
     },
     "execution_count": 364,
     "metadata": {},
     "output_type": "execute_result"
    }
   ],
   "source": [
    "genderdf"
   ]
  },
  {
   "cell_type": "code",
   "execution_count": 365,
   "metadata": {},
   "outputs": [
    {
     "data": {
      "text/html": [
       "<div>\n",
       "<style scoped>\n",
       "    .dataframe tbody tr th:only-of-type {\n",
       "        vertical-align: middle;\n",
       "    }\n",
       "\n",
       "    .dataframe tbody tr th {\n",
       "        vertical-align: top;\n",
       "    }\n",
       "\n",
       "    .dataframe thead th {\n",
       "        text-align: right;\n",
       "    }\n",
       "</style>\n",
       "<table border=\"1\" class=\"dataframe\">\n",
       "  <thead>\n",
       "    <tr style=\"text-align: right;\">\n",
       "      <th></th>\n",
       "      <th>readmitted</th>\n",
       "    </tr>\n",
       "    <tr>\n",
       "      <th>group</th>\n",
       "      <th></th>\n",
       "    </tr>\n",
       "  </thead>\n",
       "  <tbody>\n",
       "    <tr>\n",
       "      <th>Female</th>\n",
       "      <td>0.088626</td>\n",
       "    </tr>\n",
       "    <tr>\n",
       "      <th>Male</th>\n",
       "      <td>0.087280</td>\n",
       "    </tr>\n",
       "  </tbody>\n",
       "</table>\n",
       "</div>"
      ],
      "text/plain": [
       "        readmitted\n",
       "group             \n",
       "Female    0.088626\n",
       "Male      0.087280"
      ]
     },
     "execution_count": 365,
     "metadata": {},
     "output_type": "execute_result"
    }
   ],
   "source": [
    "genderdf.groupby(\"group\").mean()"
   ]
  },
  {
   "cell_type": "code",
   "execution_count": 363,
   "metadata": {},
   "outputs": [],
   "source": [
    "genderdf['readmitted'] = df.readmitted.map({'No':0,'Yes':1})"
   ]
  },
  {
   "cell_type": "code",
   "execution_count": null,
   "metadata": {},
   "outputs": [],
   "source": []
  }
 ],
 "metadata": {
  "kernelspec": {
   "display_name": "Python 3",
   "language": "python",
   "name": "python3"
  },
  "language_info": {
   "codemirror_mode": {
    "name": "ipython",
    "version": 3
   },
   "file_extension": ".py",
   "mimetype": "text/x-python",
   "name": "python",
   "nbconvert_exporter": "python",
   "pygments_lexer": "ipython3",
   "version": "3.8.3"
  }
 },
 "nbformat": 4,
 "nbformat_minor": 4
}
